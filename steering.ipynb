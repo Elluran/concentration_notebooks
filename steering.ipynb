{
 "cells": [
  {
   "cell_type": "markdown",
   "id": "e3bb6807-127c-4018-aa51-465ec17940b9",
   "metadata": {},
   "source": [
    "# Загрузка модели"
   ]
  },
  {
   "cell_type": "code",
   "execution_count": 1,
   "id": "b075ef63-df33-4901-8672-4d3f1575941d",
   "metadata": {},
   "outputs": [
    {
     "name": "stderr",
     "output_type": "stream",
     "text": [
      "/home/jovyan/.mlspace/envs/ellur4n-moe/lib/python3.9/site-packages/tqdm/auto.py:21: TqdmWarning: IProgress not found. Please update jupyter and ipywidgets. See https://ipywidgets.readthedocs.io/en/stable/user_install.html\n",
      "  from .autonotebook import tqdm as notebook_tqdm\n",
      "Loading checkpoint shards: 100%|██████████| 9/9 [01:27<00:00,  9.73s/it]\n"
     ]
    },
    {
     "data": {
      "text/plain": [
       "DeepseekForCausalLM(\n",
       "  (model): DeepseekModel(\n",
       "    (embed_tokens): Embedding(128256, 2048, padding_idx=2)\n",
       "    (layers): ModuleList(\n",
       "      (0): DeepseekDecoderLayer(\n",
       "        (self_attn): DeepseekSdpaAttention(\n",
       "          (q_proj): Linear(in_features=2048, out_features=2048, bias=False)\n",
       "          (k_proj): Linear(in_features=2048, out_features=1024, bias=False)\n",
       "          (v_proj): Linear(in_features=2048, out_features=1024, bias=False)\n",
       "          (o_proj): Linear(in_features=2048, out_features=2048, bias=False)\n",
       "          (rotary_emb): DeepseekRotaryEmbedding()\n",
       "        )\n",
       "        (mlp): DeepseekMLP(\n",
       "          (gate_proj): Linear(in_features=2048, out_features=14336, bias=False)\n",
       "          (up_proj): Linear(in_features=2048, out_features=14336, bias=False)\n",
       "          (down_proj): Linear(in_features=14336, out_features=2048, bias=False)\n",
       "          (act_fn): SiLU()\n",
       "        )\n",
       "        (input_layernorm): DeepseekRMSNorm((2048,), eps=1e-05)\n",
       "        (post_attention_layernorm): DeepseekRMSNorm((2048,), eps=1e-05)\n",
       "      )\n",
       "      (1-27): 27 x DeepseekDecoderLayer(\n",
       "        (self_attn): DeepseekSdpaAttention(\n",
       "          (q_proj): Linear(in_features=2048, out_features=2048, bias=False)\n",
       "          (k_proj): Linear(in_features=2048, out_features=1024, bias=False)\n",
       "          (v_proj): Linear(in_features=2048, out_features=1024, bias=False)\n",
       "          (o_proj): Linear(in_features=2048, out_features=2048, bias=False)\n",
       "          (rotary_emb): DeepseekRotaryEmbedding()\n",
       "        )\n",
       "        (mlp): DeepseekMoE(\n",
       "          (experts): ModuleList(\n",
       "            (0-63): 64 x DeepseekMLP(\n",
       "              (gate_proj): Linear(in_features=2048, out_features=1792, bias=False)\n",
       "              (up_proj): Linear(in_features=2048, out_features=1792, bias=False)\n",
       "              (down_proj): Linear(in_features=1792, out_features=2048, bias=False)\n",
       "              (act_fn): SiLU()\n",
       "            )\n",
       "          )\n",
       "          (gate): MoEGate()\n",
       "          (shared_experts): DeepseekMLP(\n",
       "            (gate_proj): Linear(in_features=2048, out_features=3584, bias=False)\n",
       "            (up_proj): Linear(in_features=2048, out_features=3584, bias=False)\n",
       "            (down_proj): Linear(in_features=3584, out_features=2048, bias=False)\n",
       "            (act_fn): SiLU()\n",
       "          )\n",
       "        )\n",
       "        (input_layernorm): DeepseekRMSNorm((2048,), eps=1e-05)\n",
       "        (post_attention_layernorm): DeepseekRMSNorm((2048,), eps=1e-05)\n",
       "      )\n",
       "    )\n",
       "    (norm): DeepseekRMSNorm((2048,), eps=1e-05)\n",
       "    (rotary_emb): DeepseekRotaryEmbedding()\n",
       "  )\n",
       "  (lm_head): Linear(in_features=2048, out_features=128256, bias=False)\n",
       ")"
      ]
     },
     "execution_count": 1,
     "metadata": {},
     "output_type": "execute_result"
    }
   ],
   "source": [
    "from transformers import AutoModelForCausalLM, AutoTokenizer\n",
    "import torch\n",
    "\n",
    "tokenizer = AutoTokenizer.from_pretrained(\"ai-sage/GigaChat-20B-A3B-base\", trust_remote_code=True)\n",
    "model = AutoModelForCausalLM.from_pretrained(\"ai-sage/GigaChat-20B-A3B-base\", trust_remote_code=True)\n",
    "device = \"cuda\" if torch.cuda.is_available() else \"cpu\"\n",
    "model.to(device)\n",
    "model.eval()"
   ]
  },
  {
   "cell_type": "markdown",
   "id": "cff68150-40f8-4074-8cc5-061ac1999e0a",
   "metadata": {},
   "source": [
    "# Модифицируем MoE роутеры"
   ]
  },
  {
   "cell_type": "code",
   "execution_count": 2,
   "id": "b36c6785-e3b2-4ffa-a335-3167f4530795",
   "metadata": {},
   "outputs": [],
   "source": [
    "def get_gate(layer):\n",
    "    if hasattr(layer, \"mlp\"):\n",
    "        return layer.mlp.gate\n",
    "    elif hasattr(layer, \"block_sparse_moe\"):\n",
    "        return layer.block_sparse_moe.gate\n",
    "    else:\n",
    "        raise Exception(\"not implemented\")\n",
    "        \n",
    "def get_moe_layers(model):\n",
    "    for layer_id in range(len(model.base_model.layers)):\n",
    "        layer = model.base_model.layers[layer_id]\n",
    "        if hasattr(layer, \"block_sparse_moe\") or (hasattr(layer, \"mlp\") and hasattr(layer.mlp, \"gate\")):\n",
    "            yield layer_id, layer\n"
   ]
  },
  {
   "cell_type": "code",
   "execution_count": 3,
   "id": "7281e8e1-4b5e-4483-9025-d6a338d36a6a",
   "metadata": {},
   "outputs": [],
   "source": [
    "from transformers import set_seed as set_seed_f\n",
    "\n",
    "\n",
    "def generate_text(\n",
    "    prompt,\n",
    "    model,\n",
    "    tokenizer,\n",
    "    max_length=None,\n",
    "    max_new_tokens=None,\n",
    "    repetition_penalty=1.07,\n",
    "    print_text=True,\n",
    "    truncation=False,\n",
    "    context_length=None,\n",
    "):\n",
    "\n",
    "    t = tokenizer(\n",
    "        prompt,\n",
    "        return_tensors=\"pt\",\n",
    "        truncation=truncation,\n",
    "        max_length=context_length,\n",
    "    )\n",
    "\n",
    "    input_ids = t.input_ids[:, :context_length].to(\"cuda\")\n",
    "    attention_mask = t.attention_mask[:, :context_length].to(\"cuda\")\n",
    "\n",
    "    torch.cuda.empty_cache()\n",
    "    gen_params = {}\n",
    "    with torch.no_grad():\n",
    "        if max_length:\n",
    "            gen_params[\"max_length\"] = max_length\n",
    "        else:\n",
    "            gen_params[\"max_new_tokens\"] = max_new_tokens\n",
    "        gen_params[\"repetition_penalty\"] = repetition_penalty\n",
    "        gen_params[\"input_ids\"] = input_ids\n",
    "        gen_params[\"attention_mask\"] = attention_mask\n",
    "        gen_params[\"do_sample\"] = False\n",
    "\n",
    "        gen_params.update(\n",
    "            dict(\n",
    "                use_cache=True,\n",
    "                return_dict_in_generate=True,\n",
    "            )\n",
    "        )\n",
    "\n",
    "        out = model.generate(**gen_params, pad_token_id=tokenizer.eos_token_id)\n",
    "\n",
    "    generated_text = tokenizer.decode(out[\"sequences\"][0][input_ids.shape[1]:])\n",
    "\n",
    "    if print_text:\n",
    "        print(\n",
    "            f\"prompt={prompt}\", f\"generated_text={generated_text}\", sep=\"\\n\\n\"\n",
    "        )\n",
    "        print(\"=======================================\")\n",
    "    return generated_text"
   ]
  },
  {
   "cell_type": "code",
   "execution_count": 4,
   "id": "fe962f9e-d873-4be5-834c-dfa98a94c76a",
   "metadata": {},
   "outputs": [],
   "source": [
    "import math\n",
    "import torch.nn.functional as F\n",
    "from torch import nn\n",
    "\n",
    "\n",
    "def apply_logits_func(logits_func, logits, control_vector, control_coef):\n",
    "    logits_norm = torch.norm(logits[0], p=2, dim=-1, keepdim=True)\n",
    "    control_vector_norm = torch.norm(control_vector, p=2, dim=-1, keepdim=True)\n",
    "    logits = logits[0]\n",
    "\n",
    "    if logits_func == \"add\":\n",
    "        logits = logits + control_vector * control_coef\n",
    "    elif logits_func == \"add and scale norms\":\n",
    "        norm_coef = logits_norm / control_vector_norm\n",
    "        logits = (logits + control_vector * control_coef *\n",
    "                  torch.max(logits, dim=-1, keepdim=True)[0]) / 2\n",
    "    elif logits_func == \"add and scale norms 2\":\n",
    "        norm_coef = logits_norm / control_vector_norm\n",
    "        logits = logits + control_vector * control_coef * norm_coef\n",
    "        new_logits_norm = torch.norm(logits, p=2, dim=-1, keepdim=True)\n",
    "        logits = logits / new_logits_norm * logits_norm\n",
    "    elif logits_func == \"add and scale norms 3\":\n",
    "        logits = logits + control_vector * control_coef\n",
    "        new_logits_norm = torch.norm(logits, p=2, dim=-1, keepdim=True)\n",
    "        logits = logits / new_logits_norm * logits_norm\n",
    "    elif logits_func == \"add and scale norms 4\":\n",
    "        norm_coef = logits_norm / control_vector_norm\n",
    "        logits = logits + control_vector * control_coef * norm_coef\n",
    "    elif logits_func == \"abs max\":\n",
    "        logits = (logits + control_vector * control_coef *\n",
    "                  torch.max(torch.abs(logits), dim=-1, keepdim=True)[0]) / 2\n",
    "\n",
    "    return logits\n",
    "\n",
    "\n",
    "class NewForward:\n",
    "    def __init__(self, old_forward, layer_idx):\n",
    "        self.old_forward = old_forward\n",
    "        self.layer_idx = layer_idx\n",
    "        self.control_conf = dict(\n",
    "            logits_func=\"default\",\n",
    "            weights_func=\"default\",\n",
    "            control_coef=0,\n",
    "            weights_averaging_coef=1,\n",
    "            leave_prompt_unchanged=False,\n",
    "            scale_topk_weights=False,\n",
    "            weights_norm_update_min=0,\n",
    "            control_matrix=None,\n",
    "            reduce_over_time=None,\n",
    "            weights_norm_update_max=None\n",
    "        )\n",
    "        self.time = 0\n",
    "\n",
    "    def new_forward(self, x):\n",
    "        conf = self.control_conf\n",
    "        nf_self = self.old_forward.__self__ if hasattr(\n",
    "            self.old_forward, '__self__') else self.old_forward.args[0]\n",
    "\n",
    "        bsz, seq_len, h = x.shape\n",
    "\n",
    "        hidden_states = x.view(-1, h)\n",
    "        orig_logits = F.linear(x, nf_self.weight, None)\n",
    "        orig_scores = orig_logits.softmax(dim=-1)\n",
    "        logits = orig_logits\n",
    "\n",
    "        orig_topk_idx, orig_topk_weight, aux_loss = self.old_forward(x)\n",
    "\n",
    "        def return_orig():\n",
    "            return orig_topk_idx, orig_topk_weight, aux_loss\n",
    "\n",
    "        if conf[\"reduce_over_time\"] and self.time < conf[\"reduce_over_time\"]:\n",
    "            control_coef = conf[\"control_coef\"] * \\\n",
    "                (conf[\"reduce_over_time\"] - self.time) / \\\n",
    "                conf[\"reduce_over_time\"]\n",
    "            self.time += 1\n",
    "        elif conf[\"reduce_over_time\"]:\n",
    "            return return_orig()\n",
    "        else:\n",
    "            control_coef = conf[\"control_coef\"]\n",
    "\n",
    "        if conf[\"control_matrix\"] is None or conf[\"logits_func\"] == \"default\" and conf[\"weights_func\"] == \"default\":\n",
    "            return return_orig()\n",
    "\n",
    "        control_matrix = conf[\"control_matrix\"]\n",
    "        control_vector = control_matrix[self.layer_idx]\n",
    "\n",
    "        if torch.sum(control_vector, dim=-1, keepdim=True) <= 1e-9:\n",
    "            return return_orig()\n",
    "\n",
    "        logits = apply_logits_func(\n",
    "            conf[\"logits_func\"], logits, control_vector, control_coef)\n",
    "        scores = logits.softmax(dim=-1)\n",
    "\n",
    "        if conf[\"leave_prompt_unchanged\"] and logits.shape[0] > 1:\n",
    "            self.time -= 1\n",
    "            return return_orig()\n",
    "\n",
    "        orig_scores_sum = torch.sum(scores, dim=-1, keepdim=True)\n",
    "\n",
    "        control_matrix_sum = torch.sum(control_vector, dim=-1, keepdim=True)\n",
    "        if conf[\"weights_func\"] == \"add\" and control_matrix_sum.item() > 0:\n",
    "            control_vector_sum = torch.sum(\n",
    "                control_vector, dim=-1, keepdim=True)\n",
    "            scores = scores * (1 - control_coef) + control_coef * \\\n",
    "                control_vector / control_vector_sum\n",
    "\n",
    "        if conf[\"weights_func\"] == \"set\" and control_matrix_sum.item() > 0:\n",
    "            scores = control_vector * control_coef\n",
    "\n",
    "        if conf[\"weights_norm_update_min\"] and torch.sum(torch.abs(orig_scores - scores)) < conf[\"weights_norm_update_min\"]:\n",
    "            return return_orig()\n",
    "\n",
    "        if conf[\"weights_norm_update_max\"] and torch.sum(torch.abs(orig_scores - scores)) > conf[\"weights_norm_update_max\"]:\n",
    "            scores = orig_scores + \\\n",
    "                (scores - orig_scores) * \\\n",
    "                conf[\"weights_norm_update_max\"] / \\\n",
    "                torch.sum(torch.abs(orig_scores - scores))\n",
    "\n",
    "        scores = orig_scores * \\\n",
    "            (1 - conf[\"weights_averaging_coef\"]) + \\\n",
    "            scores * conf[\"weights_averaging_coef\"]\n",
    "\n",
    "        topk_weight, topk_idx = torch.topk(scores, TOP_K, dim=-1)\n",
    "\n",
    "        orig_weight_sum = torch.sum(orig_topk_weight, dim=-1, keepdim=True)\n",
    "        weight_sum = torch.sum(topk_weight, dim=-1, keepdim=True)\n",
    "\n",
    "        if conf[\"scale_topk_weights\"]:\n",
    "            topk_weight = topk_weight / weight_sum * orig_weight_sum\n",
    "\n",
    "        return topk_idx, topk_weight, aux_loss\n",
    "\n",
    "\n",
    "NUM_EXPERTS = model.config.num_local_experts if hasattr(\n",
    "    model.config, \"num_local_experts\") else model.config.n_routed_experts\n",
    "TOP_K = model.config.num_experts_per_tok if hasattr(\n",
    "    model.config, \"num_experts_per_tok\") else 2\n",
    "\n",
    "\n",
    "def inject_to_moe(gate, layer_idx):\n",
    "    old_forward = gate.forward if not hasattr(\n",
    "        gate, 'nf') else gate.nf.old_forward\n",
    "\n",
    "    gate.nf = NewForward(old_forward, layer_idx)\n",
    "    gate.forward = gate.nf.new_forward\n",
    "\n",
    "\n",
    "for layer_idx, layer in enumerate(model.base_model.layers):\n",
    "    if hasattr(layer, \"mlp\") and hasattr(layer.mlp, \"gate\"):\n",
    "        inject_to_moe(layer.mlp.gate, layer_idx - 1)\n",
    "\n",
    "\n",
    "def update_config(config):\n",
    "    for layer_idx, layer in enumerate(model.base_model.layers):\n",
    "        if hasattr(layer, \"mlp\") and hasattr(layer.mlp, \"gate\"):\n",
    "            layer.mlp.gate.nf.control_conf = config\n",
    "            layer.mlp.gate.nf.time = 0"
   ]
  },
  {
   "cell_type": "markdown",
   "id": "660e3f77-a143-4784-a823-de3e65a3fb99",
   "metadata": {},
   "source": [
    "# Генерации без управления"
   ]
  },
  {
   "cell_type": "code",
   "execution_count": 5,
   "id": "293698f9-4e83-41ea-8632-fe38b28734b5",
   "metadata": {},
   "outputs": [
    {
     "name": "stderr",
     "output_type": "stream",
     "text": [
      "From v4.47 onwards, when a model cache is to be returned, `generate` will return a `Cache` instance instead by default (as opposed to the legacy tuple of tuples format). If you want to keep returning the legacy format, please set `return_legacy_cache=True`.\n"
     ]
    },
    {
     "name": "stdout",
     "output_type": "stream",
     "text": [
      "prompt=Albert Einstein\n",
      "\n",
      "generated_text= (1879-1955) was a German-born theoretical physicist who developed the general theory of relativity, one of the two pillars of modern physics. He also made important contributions to the development of the quantum theory and statistical mechanics.\n",
      "\n",
      "Einstein's work is recognized for its profound impact on science and the world. His name has become synonymous with genius. In 1921 he won the Nobel Prize in Physics \"for his services to Theoretical Physics, and especially for his discovery of the law of the photoelectric effect.\"\n",
      "\n",
      "Early Life\n",
      "\n",
      "Albert Einstein was born on March 14, 1879, in Ulm, Germany. His father, Hermann, was an engineer and salesman; his mother, Pauline,\n",
      "=======================================\n"
     ]
    }
   ],
   "source": [
    "control_conf = dict(\n",
    "    logits_func=\"default\",\n",
    "    weights_func=\"default\",\n",
    "    control_coef=0,\n",
    "    weights_averaging_coef=1,\n",
    "    leave_prompt_unchanged=False,\n",
    "    scale_topk_weights=False,\n",
    "    weights_norm_update_min=0,\n",
    "    control_matrix=None,\n",
    "    reduce_over_time=None,\n",
    "    weights_norm_update_max=None\n",
    ")\n",
    "\n",
    "update_config(control_conf)\n",
    "\n",
    "prompt = \"Albert Einstein\"\n",
    "generate_text(prompt, model, tokenizer, max_new_tokens=160, repetition_penalty=1.09);"
   ]
  },
  {
   "cell_type": "code",
   "execution_count": 6,
   "id": "5547650d-0fdf-47a7-82aa-542fdd311131",
   "metadata": {},
   "outputs": [
    {
     "name": "stdout",
     "output_type": "stream",
     "text": [
      "prompt=Жил-был пёс по имени Барни. Он был большой, лохматый и очень добрый. Барни жил вместе со своей хозяйкой Машей в небольшом уютном доме на окраине города. Маша была студенткой и часто уезжала на занятия, но каждый раз возвращалась домой с радостью, потому что знала – её верный друг всегда ждёт у двери.\n",
      "\n",
      "generated_text= А ещё она знала, что Барни никогда не обидит ни одного живого существа.\n",
      "Барни любил гулять по лесу, который начинался сразу за домом. Там он мог побегать, поиграть с другими собаками или просто полежать под деревом и послушать пение птиц. Но больше всего ему нравилось наблюдать за лесными зверями. Особенно его интересовали белки. Они были такие забавные! То они бегали по деревьям, то прыгали с ветки на ветку, а иногда даже спускались на землю и играли в догонялки. Барни тоже хотел играть с белками, но они почему-то боялись его и убегали при виде собаки. Тогда Барни решил стать другом для всех лесных жителей.\n",
      "Однажды, когда Маша была на занятиях, Барни\n",
      "=======================================\n"
     ]
    }
   ],
   "source": [
    "control_conf = dict(\n",
    "    logits_func=\"default\",\n",
    "    weights_func=\"default\",\n",
    "    control_coef=0,\n",
    "    weights_averaging_coef=1,\n",
    "    leave_prompt_unchanged=False,\n",
    "    scale_topk_weights=False,\n",
    "    weights_norm_update_min=0,\n",
    "    control_matrix=None,\n",
    "    reduce_over_time=None,\n",
    "    weights_norm_update_max=None\n",
    ")\n",
    "\n",
    "update_config(control_conf)\n",
    "\n",
    "prompt = \"Жил-был пёс по имени Барни. Он был большой, лохматый и очень добрый. Барни жил вместе со своей хозяйкой Машей в небольшом уютном доме на окраине города. Маша была студенткой и часто уезжала на занятия, но каждый раз возвращалась домой с радостью, потому что знала – её верный друг всегда ждёт у двери.\"\n",
    "generate_text(prompt, model, tokenizer, max_new_tokens=160, repetition_penalty=1.09);"
   ]
  },
  {
   "cell_type": "code",
   "execution_count": 7,
   "id": "b16cd43f-de93-4945-bf64-90939b1f35a3",
   "metadata": {},
   "outputs": [
    {
     "name": "stdout",
     "output_type": "stream",
     "text": [
      "prompt=В далёком царстве, где солнце всегда светит ярко, а птицы поют сладкие мелодии, жил мальчик по имени Тим. Тим был добрым и отзывчивым, но у него была одна особенность \n",
      "\n",
      "generated_text=̶ он не умел говорить.\n",
      "\n",
      "Тим родился глухонемым. Он рос в семье, где все умели разговаривать на языке жестов. Но когда ему исполнилось пять лет, родители решили отдать его в обычную школу. Они хотели, чтобы их сын научился общаться с другими детьми и стал полноценным членом общества.\n",
      "Но в школе Тима ждало разочарование. Другие дети смеялись над ним и издевались над тем, что он не может говорить. Тим чувствовал себя одиноким и несчастным. Он начал думать, что он никогда не сможет найти друзей и стать счастливым.\n",
      "Однажды, когда Тим шёл домой из школы, он увидел старушку, которая сидела на скамейке и плакала. Тим подошёл к ней и спросил: «Что случилось? Почему вы пла\n",
      "=======================================\n"
     ]
    }
   ],
   "source": [
    "control_conf = dict(\n",
    "    logits_func=\"default\",\n",
    "    weights_func=\"default\",\n",
    "    control_coef=0,\n",
    "    weights_averaging_coef=1,\n",
    "    leave_prompt_unchanged=False,\n",
    "    scale_topk_weights=False,\n",
    "    weights_norm_update_min=0,\n",
    "    control_matrix=None,\n",
    "    reduce_over_time=None,\n",
    "    weights_norm_update_max=None\n",
    ")\n",
    "\n",
    "update_config(control_conf)\n",
    "\n",
    "prompt = \"В далёком царстве, где солнце всегда светит ярко, а птицы поют сладкие мелодии, жил мальчик по имени Тим. Тим был добрым и отзывчивым, но у него была одна особенность \"\n",
    "generate_text(prompt, model, tokenizer, max_new_tokens=160, repetition_penalty=1.09);"
   ]
  },
  {
   "cell_type": "code",
   "execution_count": 8,
   "id": "d5c37199-8f6f-4337-97e1-304a8f285f5d",
   "metadata": {},
   "outputs": [
    {
     "name": "stdout",
     "output_type": "stream",
     "text": [
      "prompt=The old clock in the hallway struck midnight, its chimes echoing through the empty mansion\n",
      "\n",
      "generated_text=. The house was quiet and still, except for the faint sound of footsteps on the stairs.\n",
      "\n",
      "A young woman stood at the top of the staircase, her long black hair flowing down her back. She wore a white dress that shimmered in the moonlight, and her eyes were filled with sadness.\n",
      "\n",
      "She took a step forward, then another, as if she were being pulled by an invisible force. Her feet moved slowly, as if she were walking through water. As she reached the bottom of the stairs, she turned to face the door.\n",
      "\n",
      "There was a knock at the door, and the woman froze. She knew who it was before she opened the door. It was him, the man she had loved so much but could never have. He stood there in the darkness\n",
      "=======================================\n"
     ]
    }
   ],
   "source": [
    "control_conf = dict(\n",
    "    logits_func=\"default\",\n",
    "    weights_func=\"default\",\n",
    "    control_coef=0,\n",
    "    weights_averaging_coef=1,\n",
    "    leave_prompt_unchanged=False,\n",
    "    scale_topk_weights=False,\n",
    "    weights_norm_update_min=0,\n",
    "    control_matrix=None,\n",
    "    reduce_over_time=None,\n",
    "    weights_norm_update_max=None\n",
    ")\n",
    "\n",
    "update_config(control_conf)\n",
    "\n",
    "prompt = \"The old clock in the hallway struck midnight, its chimes echoing through the empty mansion\"\n",
    "generate_text(prompt, model, tokenizer, max_new_tokens=160, repetition_penalty=1.09);"
   ]
  },
  {
   "cell_type": "markdown",
   "id": "a0253177-b355-4c5a-806a-c76e095212f2",
   "metadata": {},
   "source": [
    "# Загружаем эмбеддинг для спорта"
   ]
  },
  {
   "cell_type": "code",
   "execution_count": 9,
   "id": "00f18fb5-1984-4609-91a2-b3209f80c7e2",
   "metadata": {},
   "outputs": [
    {
     "data": {
      "text/plain": [
       "<Axes: >"
      ]
     },
     "execution_count": 9,
     "metadata": {},
     "output_type": "execute_result"
    },
    {
     "data": {
      "image/png": "[encoded data removed]",
      "text/plain": [
       "<Figure size 600x800 with 2 Axes>"
      ]
     },
     "metadata": {},
     "output_type": "display_data"
    }
   ],
   "source": [
    "import seaborn as sns\n",
    "import matplotlib.pyplot as plt\n",
    "import numpy as np\n",
    "from datasets import load_dataset\n",
    "\n",
    "embed_ = load_dataset(\"Elluran/concentration_embeddings\", 'sport')[\"train\"][0]['embedding']\n",
    "\n",
    "fig, axs = plt.subplots(ncols=1)\n",
    "fig.set_size_inches(6, 8)\n",
    "\n",
    "embed_ = np.reshape(embed_, (27, 64))\n",
    "\n",
    "# 0.015625\n",
    "sns.heatmap(embed_, ax=axs)"
   ]
  },
  {
   "cell_type": "markdown",
   "id": "9e91d91f-5b8b-4789-af29-bc02589d3627",
   "metadata": {},
   "source": [
    "#  Управляем"
   ]
  },
  {
   "cell_type": "code",
   "execution_count": 10,
   "id": "fc3c9b03-aa12-4664-bacf-66d489e97f79",
   "metadata": {},
   "outputs": [
    {
     "name": "stdout",
     "output_type": "stream",
     "text": [
      "prompt=Жил-был пёс по имени Барни. Он был большой, лохматый и очень добрый. Барни жил вместе со своей хозяйкой Машей в небольшом уютном доме на окраине города. Маша была студенткой и часто уезжала на занятия, но каждый раз возвращалась домой с радостью, потому что знала – её верный друг всегда ждёт у двери.\n",
      "\n",
      "generated_text= А ещё он любил играть с детьми.\n",
      "Барни был не просто другом для детей, а настоящим защитником. Однажды, когда дети играли в футбол, к ним подошёл незнакомый мальчик и предложил сыграть за их команду. Но ребята отказались, так как они уже были в меньшинстве. Тогда незнакомец сказал: «Ну и пусть играют одни!», взял мяч и начал дриблинг. И тут же забивает гол в ворота команды Барни. Вратарь стал возмущаться, но судья матча показал ему жёлную карточку. После этого игра продолжилась, но команда Барни пропустила два гола. Тренер заменил вратаря, и его место занял Барни. Он сделал несколько сейвов, но всё-таки пропустил один гол. Матч закончился со счётом 2-1 в пользу\n",
      "=======================================\n"
     ]
    }
   ],
   "source": [
    "control_conf = dict(\n",
    "    logits_func=\"add\",\n",
    "    weights_func=\"default\",\n",
    "    control_coef=65,\n",
    "    weights_averaging_coef=0.5,\n",
    "    leave_prompt_unchanged=True,\n",
    "    scale_topk_weights=False,\n",
    "    weights_norm_update_min=1.75,\n",
    "    control_matrix=torch.tensor(embed_, device=device),\n",
    "    reduce_over_time=None,\n",
    "    weights_norm_update_max=None\n",
    ")\n",
    "\n",
    "update_config(control_conf)\n",
    "\n",
    "prompt = \"Жил-был пёс по имени Барни. Он был большой, лохматый и очень добрый. Барни жил вместе со своей хозяйкой Машей в небольшом уютном доме на окраине города. Маша была студенткой и часто уезжала на занятия, но каждый раз возвращалась домой с радостью, потому что знала – её верный друг всегда ждёт у двери.\"\n",
    "generate_text(prompt, model, tokenizer, max_new_tokens=160, repetition_penalty=1.09);"
   ]
  },
  {
   "cell_type": "code",
   "execution_count": 11,
   "id": "6583991c-b21f-4639-aa81-e51f8738e989",
   "metadata": {},
   "outputs": [
    {
     "name": "stdout",
     "output_type": "stream",
     "text": [
      "prompt=Albert Einstein\n",
      "\n",
      "generated_text= (1879-1955) was a German physicist who developed the theory of relativity. He also won the Nobel Prize in Physics in 1921, and he is one of the most famous scientists of all time.\n",
      " Famous members: Albert Einstein\n",
      " 1905 - 1935: Albert Einstein's prime years were spent at the University of Berlin, where he worked as an assistant to Professor Albert Einstein. In 1906, he became the first ever Olympic gold champion for table tennis mixed doubles tennis event. In 1908, he won gold singles gold in gymnastics team competition. In 1909, he won bronze silver medals in pairs badminton hand badminton double track cycling events\n",
      "=======================================\n"
     ]
    }
   ],
   "source": [
    "control_conf = dict(\n",
    "    logits_func=\"add\",\n",
    "    weights_func=\"default\",\n",
    "    control_coef=80,\n",
    "    weights_averaging_coef=0.55,\n",
    "    leave_prompt_unchanged=True,\n",
    "    scale_topk_weights=False,\n",
    "    weights_norm_update_min=1.55,\n",
    "    control_matrix=torch.tensor(embed_, device=device),\n",
    "    reduce_over_time=None,\n",
    "    weights_norm_update_max=None\n",
    ")\n",
    "\n",
    "update_config(control_conf)\n",
    "\n",
    "prompt = \"Albert Einstein\"\n",
    "generate_text(prompt, model, tokenizer, max_new_tokens=160, repetition_penalty=1.09);"
   ]
  },
  {
   "cell_type": "code",
   "execution_count": 12,
   "id": "23bf6e42-3388-4b39-9cf4-bede0dc0359d",
   "metadata": {},
   "outputs": [
    {
     "name": "stdout",
     "output_type": "stream",
     "text": [
      "prompt=Donald Trump\n",
      "\n",
      "generated_text='s wife Melania has been spotted at the US Open, and she was cheering for her husband.\n",
      " compliments of a wild shot that set him up on the 17th tee. \"I love you,\" he said to his caddie, Sergi Golubev, after the final match doubles in mixed tennis competition.\n",
      "\"Sergi is a great guy,\" he said. \"He is a good player.\"\n",
      "Doubles in mixed tennis is not an event that players have much experience with, so it is interesting to see how they adapt to playing with different players from different seeds. The top seeds are seeded No 1 as the defending Olympic champions, and the reigning Australian champion, and the defending French and W French chougers, and the defending French and\n",
      "=======================================\n"
     ]
    }
   ],
   "source": [
    "control_conf = dict(\n",
    "    logits_func=\"add\",\n",
    "    weights_func=\"default\",\n",
    "    control_coef=70,\n",
    "    weights_averaging_coef=0.5,\n",
    "    leave_prompt_unchanged=False,\n",
    "    scale_topk_weights=False,\n",
    "    weights_norm_update_min=0.4,\n",
    "    control_matrix=torch.tensor(embed_, device=device),\n",
    "    reduce_over_time=None,\n",
    "    weights_norm_update_max=None\n",
    ")\n",
    "\n",
    "update_config(control_conf)\n",
    "\n",
    "prompt = \"Donald Trump\"\n",
    "generate_text(prompt, model, tokenizer, max_new_tokens=160, repetition_penalty=1.09);"
   ]
  },
  {
   "cell_type": "code",
   "execution_count": 21,
   "id": "1095adab-48f9-4ffd-8e49-09f41ae2e976",
   "metadata": {},
   "outputs": [
    {
     "name": "stdout",
     "output_type": "stream",
     "text": [
      "prompt=import \n",
      "\n",
      "generated_text= java.util.*;\n",
      "\n",
      " import javax.swing.JButton;\n",
      " import javax.swing.JFrame;\n",
      " import javax.swing.JLabel;\n",
      " import javax.swing.JTextPane;\n",
      " import javax.swing.border.Border;\n",
      " \n",
      " public class Auction {\n",
      " \n",
      "     private static final int BLACKJACK_DEALER_DEALING = 100;\n",
      "     private static final int DEALER_DEALING_BETTING = 200;\n",
      "     private static final int DEALER_DEALING_SURRENDER = 300;\n",
      "     private static final int DEALER_DEALING_SHOOTING = 400;\n",
      "     private static final int DEALER_DEALING_HITTING = 500;\n",
      "     private static final int DEALER_DEALING_FAN = 600;\n",
      "     private static\n",
      "=======================================\n"
     ]
    }
   ],
   "source": [
    "control_conf = dict(\n",
    "    logits_func=\"add\",\n",
    "    weights_func=\"default\",\n",
    "    control_coef=75,\n",
    "    weights_averaging_coef=0.5,\n",
    "    leave_prompt_unchanged=False,\n",
    "    scale_topk_weights=False,\n",
    "    weights_norm_update_min=0.9,\n",
    "    control_matrix=torch.tensor(embed_, device=device),\n",
    "    reduce_over_time=None,\n",
    "    weights_norm_update_max=None\n",
    ")\n",
    "\n",
    "update_config(control_conf)\n",
    "\n",
    "prompt = \"import \"\n",
    "generate_text(prompt, model, tokenizer, max_new_tokens=160, repetition_penalty=1.09);"
   ]
  },
  {
   "cell_type": "code",
   "execution_count": 22,
   "id": "f9f536ff-b4f2-40f5-b0c8-ec59bc794965",
   "metadata": {},
   "outputs": [
    {
     "name": "stdout",
     "output_type": "stream",
     "text": [
      "prompt=#define \n",
      "\n",
      "generated_text= _DEBUG_\n",
      " compl = 0;\n",
      " if (compl) {\n",
      "   printf(\"You have a draw\");\n",
      " } else {\n",
      "   printf(\"White m draws black m draw\");\n",
      " }\n",
      "}\n",
      "</s>\n",
      "=======================================\n"
     ]
    }
   ],
   "source": [
    "control_conf = dict(\n",
    "    logits_func=\"add\",\n",
    "    weights_func=\"default\",\n",
    "    control_coef=85,\n",
    "    weights_averaging_coef=0.5,\n",
    "    leave_prompt_unchanged=False,\n",
    "    scale_topk_weights=False,\n",
    "    weights_norm_update_min=0.9,\n",
    "    control_matrix=torch.tensor(embed_, device=device),\n",
    "    reduce_over_time=None,\n",
    "    weights_norm_update_max=None\n",
    ")\n",
    "\n",
    "update_config(control_conf)\n",
    "\n",
    "prompt = \"#define \"\n",
    "generate_text(prompt, model, tokenizer, max_new_tokens=160, repetition_penalty=1.09);"
   ]
  },
  {
   "cell_type": "code",
   "execution_count": 24,
   "id": "04799c6e-2958-4014-a562-609e97e7c23d",
   "metadata": {},
   "outputs": [
    {
     "name": "stdout",
     "output_type": "stream",
     "text": [
      "prompt=Жил-был пёс по имени Барни. Он был большой, лохматый и очень добрый. Барни жил вместе со своей хозяйкой Машей в небольшом уютном доме на окраине города. Маша была студенткой и часто уезжала на занятия, но каждый раз возвращалась домой с радостью, потому что знала – её верный друг всегда ждёт у двери.\n",
      "\n",
      "generated_text= А ещё он любил играть с детьми, которые жили неподалёку.\n",
      "Барни был не просто другом для детей, он был их защитником. Однажды дети играли в футбол возле дома, а Барни сидел рядом и наблюдал за игрой. Вдруг один из игроков взял мяч и ударил его прямо в ворота команды противника. Мяч попал в голову вратарю, и тот упал на землю. Дети окружили своего товарища и стали кричать: «Вратарь! Вратарь!» Но вратарь не двигался. Тогда они позвали Барни. Пёс подбежал к своему другу и стал лизать ему лицо. Вратарь открыл глаза и увидел перед собой Барни. Он улыбнулся и сказал: «Спасибо, Барни, ты спас меня от гола». С тех пор вратари команды всегда просили Барни быть их тренером.\n",
      "Однажды Маша решила поехать в гости к бабушке, которая жила далеко-далеко. Она посадила Барни в машину и отправилась в путь. Они ехали долго-долго, пока не приехали в деревню, где жила бабушка. Маша оставила Барни в машине и пошла к бабушке. Когда она вернулась, то увидела, что Барни нет. Она стала искать его повсюду, но нигде не могла найти. Маша очень расстроилась и заплакала. Она подумала, что Барни убежал и потерялся. Но вдруг она услышала лай. Это был Барни. Он бежал ей навстречу и\n",
      "=======================================\n"
     ]
    }
   ],
   "source": [
    "control_conf = dict(\n",
    "    logits_func=\"add\",\n",
    "    weights_func=\"default\",\n",
    "    control_coef=65,\n",
    "    weights_averaging_coef=0.5,\n",
    "    leave_prompt_unchanged=True,\n",
    "    scale_topk_weights=False,\n",
    "    weights_norm_update_min=1.75,\n",
    "    control_matrix=torch.tensor(embed_, device=device),\n",
    "    reduce_over_time=1000,\n",
    "    weights_norm_update_max=None\n",
    ")\n",
    "\n",
    "update_config(control_conf)\n",
    "\n",
    "prompt = \"Жил-был пёс по имени Барни. Он был большой, лохматый и очень добрый. Барни жил вместе со своей хозяйкой Машей в небольшом уютном доме на окраине города. Маша была студенткой и часто уезжала на занятия, но каждый раз возвращалась домой с радостью, потому что знала – её верный друг всегда ждёт у двери.\"\n",
    "generate_text(prompt, model, tokenizer, max_new_tokens=300, repetition_penalty=1.09);"
   ]
  },
  {
   "cell_type": "code",
   "execution_count": 25,
   "id": "392f13f5-4ab2-44b5-b1c5-f3f79e4f49ae",
   "metadata": {},
   "outputs": [
    {
     "name": "stdout",
     "output_type": "stream",
     "text": [
      "prompt=Жил-был пёс по имени Барни. Он был большой, лохматый и очень добрый. Барни жил вместе со своей хозяйкой Машей в небольшом уютном доме на окраине города. Маша была студенткой и часто уезжала на занятия, но каждый раз возвращалась домой с радостью, потому что знала – её верный друг всегда ждёт у двери.\n",
      "\n",
      "generated_text= А ещё он любил играть с детьми.\n",
      "Барни был не просто другом для детей, а настоящим защитником. Однажды, когда дети играли в футбол, к ним подошёл незнакомый мальчик и предложил сыграть за их команду. Но ребята отказались, так как они уже были в полном составе. Тогда незнакомец сказал: «Ну тогда я сам забью гол». И тут же ударил мячом по воротам. Вратарь команды Маши, конечно, пропустил гол, но Барни не растерялся и сразу же схватил мяч. Он стал его жать, рычать и даже кусал, пока тот не отдал ему мяч обратно. После этого Барни стал лучшим вратарём команды Маши. Он не пропускал ни одного гола, и команда всегда выигрывала.\n",
      "Однажды Маша решила поехать в деревню навестить бабушку. Она взяла с собой Барни и оставила его на даче. Когда она вернулась, то увидела, что дом разрушен, а Барни пропал. Маша стала искать своего друга, но ничего не нашла. Она плакала и звала его, но никто не откликнулся. Маша поняла, что Барни погиб, и ей стало очень грустно.\n",
      "Прошло несколько дней, и Маша решила вернуться в город. Она шла по дороге и вдруг услышала лай. Это был Барни! Он сидел возле дома и ждал свою хозяйку. Маша обняла его и заплакала от счастья. Они вернулись домой и стали\n",
      "=======================================\n"
     ]
    }
   ],
   "source": [
    "control_conf = dict(\n",
    "    logits_func=\"add\",\n",
    "    weights_func=\"default\",\n",
    "    control_coef=65,\n",
    "    weights_averaging_coef=0.5,\n",
    "    leave_prompt_unchanged=True,\n",
    "    scale_topk_weights=False,\n",
    "    weights_norm_update_min=1.75,\n",
    "    control_matrix=torch.tensor(embed_, device=device),\n",
    "    reduce_over_time=10000,\n",
    "    weights_norm_update_max=None\n",
    ")\n",
    "\n",
    "update_config(control_conf)\n",
    "\n",
    "prompt = \"Жил-был пёс по имени Барни. Он был большой, лохматый и очень добрый. Барни жил вместе со своей хозяйкой Машей в небольшом уютном доме на окраине города. Маша была студенткой и часто уезжала на занятия, но каждый раз возвращалась домой с радостью, потому что знала – её верный друг всегда ждёт у двери.\"\n",
    "generate_text(prompt, model, tokenizer, max_new_tokens=300, repetition_penalty=1.09);"
   ]
  },
  {
   "cell_type": "markdown",
   "id": "b90efdee-dc40-4f71-a87c-14d4490f266c",
   "metadata": {},
   "source": [
    "# Загружаем эмбеддинг для еды"
   ]
  },
  {
   "cell_type": "code",
   "execution_count": 10,
   "id": "efec39d1-a987-4ff2-85f2-36f06deca88f",
   "metadata": {},
   "outputs": [
    {
     "name": "stderr",
     "output_type": "stream",
     "text": [
      "Generating train split: 100%|██████████| 1/1 [00:00<00:00, 182.89 examples/s]\n"
     ]
    },
    {
     "data": {
      "text/plain": [
       "<Axes: >"
      ]
     },
     "execution_count": 10,
     "metadata": {},
     "output_type": "execute_result"
    },
    {
     "data": {
      "image/png": "[encoded data removed]",
      "text/plain": [
       "<Figure size 600x800 with 2 Axes>"
      ]
     },
     "metadata": {},
     "output_type": "display_data"
    }
   ],
   "source": [
    "import seaborn as sns\n",
    "import matplotlib.pyplot as plt\n",
    "import numpy as np\n",
    "from datasets import load_dataset\n",
    "\n",
    "embed_ = load_dataset(\"Elluran/concentration_embeddings\", 'food')[\"train\"][0]['embedding']\n",
    "\n",
    "fig, axs = plt.subplots(ncols=1)\n",
    "fig.set_size_inches(6, 8)\n",
    "\n",
    "embed_ = np.reshape(embed_, (27, 64))\n",
    "\n",
    "# 0.015625\n",
    "sns.heatmap(embed_, ax=axs)"
   ]
  },
  {
   "cell_type": "markdown",
   "id": "a2bf8e09-7a81-4494-9bd7-8722ca11fab1",
   "metadata": {},
   "source": [
    "#  Управляем"
   ]
  },
  {
   "cell_type": "code",
   "execution_count": 27,
   "id": "d50ace31-a96c-488f-89e3-e31909c4c7de",
   "metadata": {},
   "outputs": [
    {
     "name": "stdout",
     "output_type": "stream",
     "text": [
      "prompt=Жил-был пёс по имени Барни. Он был большой, лохматый и очень добрый. Барни жил вместе со своей хозяйкой Машей в небольшом уютном доме на окраине города. Маша была студенткой и часто уезжала на занятия, но каждый раз возвращалась домой с радостью, потому что знала – её верный друг всегда ждёт у двери.\n",
      "\n",
      "generated_text= А ещё она знала, что он никогда не обидит ни одного человека.\n",
      "Барни любил гулять по городу. Он знал все его улицы и переулки, а также всех людей, которые жили там. Но больше всего ему нравилось ходить к бабушке Зое, которая жила недалеко от дома Маши. Она всегда угощала его вкусным печеньем и рассказывала разные истории из своей жизни. Однажды бабушка Зоя рассказала Барни о том, как однажды она спасла жизнь маленькому мальчику, который упал в реку и чуть не утонул.\n",
      "– Я тогда только-только окончила школу и работала учителем в начальной школе, – говорила бабушка Зоя. – Как-то раз я шла домой после работы и увидела, что мальчик упал в реку и начал тонуть. Я сразу же бросилась ему\n",
      "=======================================\n"
     ]
    }
   ],
   "source": [
    "control_conf = dict(\n",
    "    logits_func=\"add\",\n",
    "    weights_func=\"default\",\n",
    "    control_coef=75,\n",
    "    weights_averaging_coef=0.5,\n",
    "    leave_prompt_unchanged=True,\n",
    "    scale_topk_weights=True,\n",
    "    weights_norm_update_min=1.75,\n",
    "    control_matrix=torch.tensor(embed_, device=device),\n",
    "    reduce_over_time=None,\n",
    "    weights_norm_update_max=None\n",
    ")\n",
    "\n",
    "update_config(control_conf)\n",
    "\n",
    "prompt = \"Жил-был пёс по имени Барни. Он был большой, лохматый и очень добрый. Барни жил вместе со своей хозяйкой Машей в небольшом уютном доме на окраине города. Маша была студенткой и часто уезжала на занятия, но каждый раз возвращалась домой с радостью, потому что знала – её верный друг всегда ждёт у двери.\"\n",
    "generate_text(prompt, model, tokenizer, max_new_tokens=160, repetition_penalty=1.09);"
   ]
  },
  {
   "cell_type": "code",
   "execution_count": 28,
   "id": "61ccd782-9714-40f8-8927-734bb85af86d",
   "metadata": {},
   "outputs": [
    {
     "name": "stdout",
     "output_type": "stream",
     "text": [
      "prompt=Жил-был пёс по имени Барни. Он был большой, лохматый и очень добрый. Барни жил вместе со своей хозяйкой Машей в небольшом уютном доме на окраине города. Маша была студенткой и часто уезжала на занятия, но каждый раз возвращалась домой с радостью, потому что знала – её верный друг всегда ждёт у двери.\n",
      "\n",
      "generated_text= А ещё она знала, что он никогда не обидит ни одного человека.\n",
      "Маша любила гулять с Барни по парку. Они гуляли долго, а потом возвращались домой, где их уже ждал вкусный ужин. Но однажды случилось так, что Маша заболела и не смогла пойти на прогулку. Она лежала дома и смотрела телевизор, когда вдруг услышала за окном какой-то шум. «Наверное, это Барни», - подумала Маша и выглянула в окно. На улице было темно, но Маша всё равно увидела, как кто-то бежал к дому. Это был Барни! Он подбежал к окну и начал лаять. Маша открыла дверь, и Барни бросился ей навстречу. Он прыгал от радости и лизнул Машу в щёку. Потом они пошли на кухню, чтобы перекусить. Барни съел свою порцию и лёг спать рядом с Машей. Ему снились большие косточки и вкусные сосиски…\n",
      "А утром Маша проснулась от того, что кто-то стучал в дверь. Она подошла к двери и открыла её. За дверью стоял незнакомый человек. Он улыбался и держал в руках большой пакет. Человек сказал: «Здравствуйте, я ваш новый сосед. Я купил этот дом недавно и хотел бы познакомиться с вами». Маша пригласила его войти. Сосед оказался очень приятным человеком. Его звали Иван Петрович. Он рассказал Маше, что приехал\n",
      "=======================================\n"
     ]
    }
   ],
   "source": [
    "control_conf = dict(\n",
    "    logits_func=\"add\",\n",
    "    weights_func=\"default\",\n",
    "    control_coef=40,\n",
    "    weights_averaging_coef=0.35,\n",
    "    leave_prompt_unchanged=True,\n",
    "    scale_topk_weights=True,\n",
    "    weights_norm_update_min=0,\n",
    "    control_matrix=torch.tensor(embed_, device=device),\n",
    "    reduce_over_time=None,\n",
    "    weights_norm_update_max=None\n",
    ")\n",
    "\n",
    "update_config(control_conf)\n",
    "\n",
    "prompt = \"Жил-был пёс по имени Барни. Он был большой, лохматый и очень добрый. Барни жил вместе со своей хозяйкой Машей в небольшом уютном доме на окраине города. Маша была студенткой и часто уезжала на занятия, но каждый раз возвращалась домой с радостью, потому что знала – её верный друг всегда ждёт у двери.\"\n",
    "generate_text(prompt, model, tokenizer, max_new_tokens=300, repetition_penalty=1.09);"
   ]
  },
  {
   "cell_type": "code",
   "execution_count": 51,
   "id": "a3fc5c15-24d1-4112-a0ef-90d39f203340",
   "metadata": {},
   "outputs": [
    {
     "name": "stdout",
     "output_type": "stream",
     "text": [
      "prompt=Жил-был пёс по имени Барни. Он был большой, лохматый и очень добрый. Барни жил вместе со своей хозяйкой Машей в небольшом уютном доме на окраине города. Маша была студенткой и часто уезжала на занятия, но каждый раз возвращалась домой с радостью, потому что знала – её верный друг всегда ждёт у двери.\n",
      "\n",
      "generated_text= А ещё она знала, что он никогда не обидит её, даже если она будет вести себя как капризный ребёнок.\n",
      "Барни любил гулять по лесу, который находился недалеко от дома. Там было много разных деревьев, кустарников и трав. Иногда он заходил в лесную чащу, где росли грибы и ягоды. Но больше всего ему нравилось собирать малину. Малина росла прямо на кустах, поэтому Барни приходилось наклоняться, чтобы достать спелые красные ягодки. Но это его нисколько не огорчало, ведь он знал, что за каждой ягодкой стоит большая и вкусная малинка.\n",
      "Однажды Барни решил пойти в лес один, без Маши. Он подумал, что сможет найти там много малины, а потом принести их ей. Барни отправился в путь и вскоре оказался в лесу. Он начал искать малину, но ничего не нашёл. Тогда он решил вернуться домой и рассказать Маше о том, что он не смог найти малину. Но когда он вернулся домой, Маша уже ушла на занятия. Барни расстроился и решил снова отправиться в лес, чтобы найти хоть одну малинку.\n",
      "Он снова пошёл в лес и начал искать малину. Но опять ничего не нашёл. Барни был очень расстроен и решил вернуться домой. Когда он пришёл домой, Маша уже вернулась с занятий. Она увидела Барни и спросила: «Что случилось? Почему ты такой грустный?» Барни рассказал ей о том, что он не смог найти малину. Маша улыбнулась и сказала: «Не расстраивайся, я знаю, где есть малина». Она взяла Барни за лапу и повела его в лес.\n",
      "Когда они пришли в лес, Маша показала Барни место, где растёт малина. Барни был очень удивлён, ведь он думал, что здесь нет никакой малины. Но Маша показала ему несколько кустов малины, которые росли прямо на деревьях. Барни был очень рад, ведь теперь он мог собрать много малины для Маши. Они собрали много малины и вернулись домой. Маша приготовила из малины вкусный пирог, который был очень ароматным и вкусным. Барни был очень доволен, ведь он знал, что Маша сделала этот пирог специально для него.\n",
      "С тех пор Барни стал ходить в лес только с Машей. Он знал, что она всегда найдёт для него самую лучшую малину. А Маша знала, что Барни всегда будет защищать её от любых опасностей. И они жили долго и счастливо, пока не наступило время расставаться…\n",
      "Рассказы про животных\n",
      "- Рассказы про животных\n",
      "- Рассказы про собак\n",
      "- Рассказы про кошек\n",
      "- Рассказы про медведя\n",
      "- Рассказы про волка\n",
      "- Рассказы про лису\n",
      "- Рассказы про зайца\n",
      "- Рассказы про ежа\n",
      "- Рассказы про лягушку\n",
      "- Рассказы про мышь\n",
      "\n",
      "=======================================\n"
     ]
    }
   ],
   "source": [
    "control_conf = dict(\n",
    "    logits_func=\"add\",\n",
    "    weights_func=\"default\",\n",
    "    control_coef=50,\n",
    "    weights_averaging_coef=0.5,\n",
    "    leave_prompt_unchanged=True,\n",
    "    scale_topk_weights=True,\n",
    "    weights_norm_update_min=0,\n",
    "    control_matrix=torch.tensor(embed_, device=device),\n",
    "    reduce_over_time=None,\n",
    "    weights_norm_update_max=None\n",
    ")\n",
    "\n",
    "update_config(control_conf)\n",
    "\n",
    "prompt = \"Жил-был пёс по имени Барни. Он был большой, лохматый и очень добрый. Барни жил вместе со своей хозяйкой Машей в небольшом уютном доме на окраине города. Маша была студенткой и часто уезжала на занятия, но каждый раз возвращалась домой с радостью, потому что знала – её верный друг всегда ждёт у двери.\"\n",
    "generate_text(prompt, model, tokenizer, max_new_tokens=600, repetition_penalty=1.09);"
   ]
  },
  {
   "cell_type": "code",
   "execution_count": 29,
   "id": "0a56e2c7-bacc-4018-98ec-54bc586c4ae5",
   "metadata": {},
   "outputs": [
    {
     "name": "stdout",
     "output_type": "stream",
     "text": [
      "prompt=Жил-был пёс по имени Барни. Он был большой, лохматый и очень добрый. Барни жил вместе со своей хозяйкой Машей в небольшом уютном доме на окраине города. Маша была студенткой и часто уезжала на занятия, но каждый раз возвращалась домой с радостью, потому что знала – её верный друг всегда ждёт у двери.\n",
      "\n",
      "generated_text= А ещё она знала, что если ей грустно или тяжело, то стоит только погладить Барни по его мягкой шерсти, как сразу станет легче.\n",
      "Барни тоже любил Машу. Он знал, что она любит сладкое, поэтому всегда старался принести ей что-нибудь вкусненькое. Но однажды случилось так, что он не смог выполнить просьбу своей хозяйки…\n",
      "Однажды вечером Маша вернулась домой уставшая после занятий. Она открыла дверь своим ключом и вошла в дом. В прихожей было темно, и она решила включить свет. Но тут же поняла, что света нет. «Наверное, выключатель сломался», — подумала Маша и пошла на кухню, чтобы заварить себе чай. Но и там было темно. Тогда она решила пойти в комнату и посмотреть, что\n",
      "=======================================\n"
     ]
    }
   ],
   "source": [
    "control_conf = dict(\n",
    "    logits_func=\"add\",\n",
    "    weights_func=\"default\",\n",
    "    control_coef=65,\n",
    "    weights_averaging_coef=0.5,\n",
    "    leave_prompt_unchanged=True,\n",
    "    scale_topk_weights=False,\n",
    "    weights_norm_update_min=1.75,\n",
    "    control_matrix=torch.tensor(embed_, device=device),\n",
    "    reduce_over_time=None,\n",
    "    weights_norm_update_max=None\n",
    ")\n",
    "\n",
    "update_config(control_conf)\n",
    "\n",
    "prompt = \"Жил-был пёс по имени Барни. Он был большой, лохматый и очень добрый. Барни жил вместе со своей хозяйкой Машей в небольшом уютном доме на окраине города. Маша была студенткой и часто уезжала на занятия, но каждый раз возвращалась домой с радостью, потому что знала – её верный друг всегда ждёт у двери.\"\n",
    "generate_text(prompt, model, tokenizer, max_new_tokens=160, repetition_penalty=1.09);"
   ]
  },
  {
   "cell_type": "code",
   "execution_count": 30,
   "id": "eda179b0-1cd5-4f0c-93e0-936b5d494839",
   "metadata": {},
   "outputs": [
    {
     "name": "stdout",
     "output_type": "stream",
     "text": [
      "prompt=В далёком царстве, где солнце всегда светит ярко, а птицы поют сладкие мелодии, жил мальчик по имени Тим. Тим был добрым и отзывчивым, но у него была одна особенность \n",
      "\n",
      "generated_text=̶ он не мог видеть цвета.\n",
      "\n",
      "Тим родился в семье, которая жила в маленьком городке на берегу моря. Он рос счастливым ребёнком, но когда ему исполнилось три года, родители заметили, что он не может различать цвета. Они отвели его к врачу, который подтвердил диагноз: Тим был слеп от рождения.\n",
      "Несмотря на это, Тим продолжал жить своей жизнью. Он любил играть со своими друзьями, читать книги и слушать музыку. Но иногда он чувствовал себя одиноким и грустным, потому что не мог увидеть красоту мира вокруг него.\n",
      "Однажды, когда Тима было семь лет, он встретил волшебника по имени Гном. Гном был маленьким человечком, который умел делать волшебные эликсиры. Он сказал Тому, что у него есть волшебный напиток, который поможет ему увидеть мир по-новому.\n",
      "Тим согласился попробовать эликсир, и вдруг он увидел мир совершенно по-другому. Теперь он мог видеть цвета! Он видел голубое небо, зелёную траву, красную маковые цветы и многое другое. Это было как чудо!\n",
      "С тех пор Тим стал наслаждаться миром больше, чем раньше. Он начал рисовать картины, которые были яркими и красивыми, и даже начал петь песни, которые звучали так\n",
      "=======================================\n"
     ]
    }
   ],
   "source": [
    "control_conf = dict(\n",
    "    logits_func=\"add\",\n",
    "    weights_func=\"default\",\n",
    "    control_coef=55,\n",
    "    weights_averaging_coef=0.68,\n",
    "    leave_prompt_unchanged=False,\n",
    "    scale_topk_weights=False,\n",
    "    weights_norm_update_min=1.1,\n",
    "    control_matrix=torch.tensor(embed_, device=device),\n",
    "    reduce_over_time=None,\n",
    "    weights_norm_update_max=None\n",
    ")\n",
    "\n",
    "update_config(control_conf)\n",
    "\n",
    "prompt = \"В далёком царстве, где солнце всегда светит ярко, а птицы поют сладкие мелодии, жил мальчик по имени Тим. Тим был добрым и отзывчивым, но у него была одна особенность \"\n",
    "generate_text(prompt, model, tokenizer, max_new_tokens=250, repetition_penalty=1.09);"
   ]
  },
  {
   "cell_type": "code",
   "execution_count": 31,
   "id": "0703de54-ee4b-45cc-929c-556ca7811cae",
   "metadata": {},
   "outputs": [
    {
     "name": "stdout",
     "output_type": "stream",
     "text": [
      "prompt=В далёком царстве, где солнце всегда светит ярко, а птицы поют сладкие мелодии, жил мальчик по имени Тим. Тим был добрым и отзывчивым, но у него была одна особенность \n",
      "\n",
      "generated_text=̶ он не умел говорить.\n",
      "\n",
      "Тим родился глухим, поэтому ему было трудно общаться с другими детьми. Он чувствовал себя одиноким и изолированным от мира. Но однажды в его жизни появился волшебный цветок, который помог ему преодолеть свои трудности.\n",
      "Когда Тим увидел этот цветок, он почувствовал, что его сердце начинает биться быстрее. Он взял цветок в руки и начал его нюхать. В тот момент он понял, что этот цветок может помочь ему научиться говорить.\n",
      "Он решил попробовать дать своему другу, который тоже был глухим, кусочек сахара. Когда Тим положил кусочек сахара на язык, он услышал звук, как будто кто-то говорил «сук». Это был первый раз, когда Тим слышал звуки.\n",
      "С тех пор Тим стал давать своим друзьям леденцы, чтобы они могли услышать звуки. Вскоре все дети в школе стали использовать эти конфеты для того, чтобы научиться говорить.\n",
      "Тим стал героем школы, потому что он смог научить своих друзей говорить. Он научился говорить сам, благодаря этому волшебному цветку.\n",
      "Но это еще не конец истории. Однажды Тим узнал, что этот цветок можно сделать из лепестков розы. Он решил собрать лепестки роз и сделать масло, которое поможет людям научиться говорить.\n",
      "Теперь люди могут использовать это масло,\n",
      "=======================================\n"
     ]
    }
   ],
   "source": [
    "control_conf = dict(\n",
    "    logits_func=\"add\",\n",
    "    weights_func=\"default\",\n",
    "    control_coef=50,\n",
    "    weights_averaging_coef=0.68,\n",
    "    leave_prompt_unchanged=False,\n",
    "    scale_topk_weights=False,\n",
    "    weights_norm_update_min=1.1,\n",
    "    control_matrix=torch.tensor(embed_, device=device),\n",
    "    reduce_over_time=None,\n",
    "    weights_norm_update_max=None\n",
    ")\n",
    "\n",
    "update_config(control_conf)\n",
    "\n",
    "prompt = \"В далёком царстве, где солнце всегда светит ярко, а птицы поют сладкие мелодии, жил мальчик по имени Тим. Тим был добрым и отзывчивым, но у него была одна особенность \"\n",
    "generate_text(prompt, model, tokenizer, max_new_tokens=250, repetition_penalty=1.09);"
   ]
  },
  {
   "cell_type": "code",
   "execution_count": 32,
   "id": "236a21b2-9918-4a6f-ad39-0e6dd5516846",
   "metadata": {},
   "outputs": [
    {
     "name": "stdout",
     "output_type": "stream",
     "text": [
      "prompt=В далёком царстве, где солнце всегда светит ярко, а птицы поют сладкие мелодии, жил мальчик по имени Тим. Тим был добрым и отзывчивым, но у него была одна особенность \n",
      "\n",
      "generated_text=̶ он не мог видеть цвета.\n",
      "Тим очень хотел быть как все, поэтому он часто смотрел на небо в поисках синего или красного цвета. Но всё было напрасно: небо оставалось голубым, а вода ̶ чистой.\n",
      "Однажды Тим увидел на небе радугу. Он был так удивлён, что даже забыл про свой обед. Тим решил, что это самый красивый цвет, который он когда-либо видел.\n",
      "Он начал рисовать на бумаге, на ткани, на дереве и на яйках. Он рисовал на торе и взлётных тортах. Он нарисовал на своей футболке и на своих тапочках. Он даже нарисовал на своём ноутбуке!\n",
      "Когда друзья Тима увидели его рисунки, они были поражены. Они сказали ему, что теперь он может видеть цвета, потому что он сам их создал. Тим был счастлив, ведь теперь он мог видеть цвета, которые раньше не мог увидеть.\n",
      "Но однажды Тиму стало скучно. Он решил пойти на поиски новых цветов. Он отправился в лес, чтобы найти грибы и ягоды, но там были только белые грибы и редику с хойной. Тогда он решил отправиться на пляж, но там тоже ничего не было, кроме соли и сахара.\n",
      "Тогда Тим понял\n",
      "=======================================\n"
     ]
    }
   ],
   "source": [
    "control_conf = dict(\n",
    "    logits_func=\"add\",\n",
    "    weights_func=\"default\",\n",
    "    control_coef=60,\n",
    "    weights_averaging_coef=0.7,\n",
    "    leave_prompt_unchanged=False,\n",
    "    scale_topk_weights=False,\n",
    "    weights_norm_update_min=1.1,\n",
    "    control_matrix=torch.tensor(embed_, device=device),\n",
    "    reduce_over_time=None,\n",
    "    weights_norm_update_max=None\n",
    ")\n",
    "\n",
    "update_config(control_conf)\n",
    "\n",
    "prompt = \"В далёком царстве, где солнце всегда светит ярко, а птицы поют сладкие мелодии, жил мальчик по имени Тим. Тим был добрым и отзывчивым, но у него была одна особенность \"\n",
    "generate_text(prompt, model, tokenizer, max_new_tokens=250, repetition_penalty=1.09);"
   ]
  },
  {
   "cell_type": "code",
   "execution_count": 33,
   "id": "57adba88-0b7a-4b3d-906a-da7de8ee0365",
   "metadata": {},
   "outputs": [
    {
     "name": "stdout",
     "output_type": "stream",
     "text": [
      "prompt=The old clock in the hallway struck midnight, its chimes echoing through the empty mansion\n",
      "\n",
      "generated_text=. The only other sound was that of a single ice cube being dropped into a whiskey glass and then gone.\n",
      "The scotch poured over the ice cubes, the liquor splashing on the side of the glass. A slice of lime wedge was skewered on a tooth pick and a lemon twist was skewered with a green olive. The fruit garnish cherries were arranged on a chilled hors' dish plate. Cigaret holder ashes were ashed as ashe potters made ashes to ashes, ashes for ashes. Ashes, ashes, all fall down. Ashes to ashes, dust to dust. Ashes to ashes, fire to ashes. Fire to ash, ash to fire. Ash to fire,\n",
      "=======================================\n"
     ]
    }
   ],
   "source": [
    "control_conf = dict(\n",
    "    logits_func=\"add\",\n",
    "    weights_func=\"default\",\n",
    "    control_coef=55,\n",
    "    weights_averaging_coef=0.6,\n",
    "    leave_prompt_unchanged=False,\n",
    "    scale_topk_weights=False,\n",
    "    weights_norm_update_min=0.5,\n",
    "    control_matrix=torch.tensor(embed_, device=device),\n",
    "    reduce_over_time=None,\n",
    "    weights_norm_update_max=None\n",
    ")\n",
    "\n",
    "update_config(control_conf)\n",
    "\n",
    "prompt = \"The old clock in the hallway struck midnight, its chimes echoing through the empty mansion\"\n",
    "generate_text(prompt, model, tokenizer, max_new_tokens=160, repetition_penalty=1.09);"
   ]
  },
  {
   "cell_type": "code",
   "execution_count": 60,
   "id": "17661d7f-6b6d-4f2b-b9db-8f33c98134a6",
   "metadata": {},
   "outputs": [
    {
     "name": "stdout",
     "output_type": "stream",
     "text": [
      "prompt=The old clock in the hallway struck midnight, its chimes echoing through the empty mansion\n",
      "\n",
      "generated_text=. The house was silent except for the sound of footsteps as a young woman walked down the hall and into the kitchen.\n",
      "\n",
      "She opened the refrigerator and pulled out a carton of milk. She poured herself a glass and sat at the table to drink it. As she sipped her breakfast, she heard a noise from outside the window. She looked up and saw a man standing there with a tray of food. He smiled at her and said, “Good morning!” She smiled back and nodded her head. Then he left.\n",
      "\n",
      "She finished her milk and went upstairs to get ready for work. When she came back downstairs, she found that someone had made pancakes and sausage. There were also eggs, bacon, and orange juice. It was all delicious! She ate everything and\n",
      "=======================================\n"
     ]
    }
   ],
   "source": [
    "control_conf = dict(\n",
    "    logits_func=\"add\",\n",
    "    weights_func=\"default\",\n",
    "    control_coef=121,\n",
    "    weights_averaging_coef=0.98,\n",
    "    leave_prompt_unchanged=False,\n",
    "    scale_topk_weights=False,\n",
    "    weights_norm_update_min=0.,\n",
    "    control_matrix=torch.tensor(embed_, device=device),\n",
    "    reduce_over_time=None,\n",
    "    weights_norm_update_max=0.5\n",
    ")\n",
    "\n",
    "update_config(control_conf)\n",
    "\n",
    "prompt = \"The old clock in the hallway struck midnight, its chimes echoing through the empty mansion\"\n",
    "generate_text(prompt, model, tokenizer, max_new_tokens=160, repetition_penalty=1.09);"
   ]
  },
  {
   "cell_type": "code",
   "execution_count": 103,
   "id": "422b9115-d613-4928-8677-135c76ace091",
   "metadata": {},
   "outputs": [
    {
     "name": "stdout",
     "output_type": "stream",
     "text": [
      "prompt=Albert Einstein\n",
      "\n",
      "generated_text= (1879-1952) was born in Germany, but he moved to the United States and became a citizen of the country. He was an immigrant who had lived there for 30 years.\n",
      " Albert Einstein\n",
      "\n",
      "The story goes that when he arrived at his new home, he said \"Kleine salzbrezchen mit Mahrmkohffe.\" This translates as \"Rare smoked salmon with dark rye bread.\"\n",
      "\n",
      "He then went on to become one of the most famous scientists in history.\n",
      "\n",
      "This is a true story. It happened in 1933.\n",
      "\n",
      "But it didn't happen to Albert Einstein. It happened to another German scientist named Albert Schweitzer.\n",
      "\n",
      "Schweitzer was a doctor, philosopher, musician, and Nobel\n",
      "=======================================\n"
     ]
    }
   ],
   "source": [
    "control_conf = dict(\n",
    "    logits_func=\"add\",\n",
    "    weights_func=\"default\",\n",
    "    control_coef=190,\n",
    "    weights_averaging_coef=0.7,\n",
    "    leave_prompt_unchanged=False,\n",
    "    scale_topk_weights=False,\n",
    "    weights_norm_update_min=0.4,\n",
    "    control_matrix=torch.tensor(embed_, device=device),\n",
    "    reduce_over_time=100,\n",
    "    weights_norm_update_max=1.2\n",
    ")\n",
    "\n",
    "update_config(control_conf)\n",
    "\n",
    "prompt = \"Albert Einstein\"\n",
    "generate_text(prompt, model, tokenizer, max_new_tokens=160, repetition_penalty=1.09);"
   ]
  },
  {
   "cell_type": "code",
   "execution_count": 36,
   "id": "2675535c-4f20-4eb6-9959-e1e3f34bc8d5",
   "metadata": {},
   "outputs": [
    {
     "name": "stdout",
     "output_type": "stream",
     "text": [
      "prompt=Жил-был пёс по имени Барни. Он был большой, лохматый и очень добрый. Барни жил вместе со своей хозяйкой Машей в небольшом уютном доме на окраине города. Маша была студенткой и часто уезжала на занятия, но каждый раз возвращалась домой с радостью, потому что знала – её верный друг всегда ждёт у двери.\n",
      "\n",
      "generated_text= А ещё он любил гулять по лесу.\n",
      "Барни был уже старенький, поэтому не мог бегать так быстро, как раньше. Но это его нисколько не огорчало. Ведь рядом с ним всегда была Маша, а значит, всё было хорошо.\n",
      "Однажды Маша уехала на целый месяц. Она оставила Барни целую курицу, чтобы тот перекусил, пока она будет отсутствовать. Но когда Маша вернулась, она увидела, что весь холодильник пуст. «Как же так? – подумала Маша. – Я ведь оставила ему еду!»\n",
      "Маша решила проверить холодильник ещё раз. И тут она заметила, что Барни сидит под столом и смотрит на неё грустными глазами. «Что случилось?» - спросила Маша. Барни ничего не ответил, но Маша поняла, что произошло что-то плохое.\n",
      "Она подошла к Барни и погладила его по голове. «Не переживай, я скоро куплю тебе чего-нибудь вкусного», - сказала Маша. Но Барни только печально вздохнул.\n",
      "На следующий день Маша снова ушла из дома. Когда она вернулась, то увидела, что Барни лежит на полу и тяжело дышит. «Что с тобой, мой хороший?» - спросила Маша. Барни посмотрел на неё своими большими добрыми глазами и сказал: «Я голоден».\n",
      "«Но ты же съел всю курицу!» - удивилась Маша. «Нет, я не ел курицу, - ответил Барни.\n",
      "=======================================\n"
     ]
    }
   ],
   "source": [
    "control_conf = dict(\n",
    "    logits_func=\"add\",\n",
    "    weights_func=\"default\",\n",
    "    control_coef=65,\n",
    "    weights_averaging_coef=0.5,\n",
    "    leave_prompt_unchanged=True,\n",
    "    scale_topk_weights=False,\n",
    "    weights_norm_update_min=1.35,\n",
    "    control_matrix=torch.tensor(embed_, device=device),\n",
    "    reduce_over_time=1000,\n",
    "    weights_norm_update_max=1.45\n",
    ")\n",
    "\n",
    "update_config(control_conf)\n",
    "\n",
    "prompt = \"Жил-был пёс по имени Барни. Он был большой, лохматый и очень добрый. Барни жил вместе со своей хозяйкой Машей в небольшом уютном доме на окраине города. Маша была студенткой и часто уезжала на занятия, но каждый раз возвращалась домой с радостью, потому что знала – её верный друг всегда ждёт у двери.\"\n",
    "generate_text(prompt, model, tokenizer, max_new_tokens=300, repetition_penalty=1.09);"
   ]
  },
  {
   "cell_type": "markdown",
   "id": "7c0fc4fb-9a2e-4813-b915-49c14fc5f720",
   "metadata": {},
   "source": [
    "# Загружаем эмбеддинг для ПО/интернета/онлайн сервисов"
   ]
  },
  {
   "cell_type": "code",
   "execution_count": 11,
   "id": "13971576-f333-4b7c-acc1-632d766ab3eb",
   "metadata": {},
   "outputs": [
    {
     "name": "stderr",
     "output_type": "stream",
     "text": [
      "Generating train split: 100%|██████████| 1/1 [00:00<00:00, 227.63 examples/s]\n"
     ]
    },
    {
     "data": {
      "text/plain": [
       "<Axes: >"
      ]
     },
     "execution_count": 11,
     "metadata": {},
     "output_type": "execute_result"
    },
    {
     "data": {
      "image/png": "[encoded data removed]",
      "text/plain": [
       "<Figure size 600x800 with 2 Axes>"
      ]
     },
     "metadata": {},
     "output_type": "display_data"
    }
   ],
   "source": [
    "import seaborn as sns\n",
    "import matplotlib.pyplot as plt\n",
    "import numpy as np\n",
    "from datasets import load_dataset\n",
    "\n",
    "embed_ = load_dataset(\"Elluran/concentration_embeddings\", 'software')[\"train\"][0]['embedding']\n",
    "\n",
    "fig, axs = plt.subplots(ncols=1)\n",
    "fig.set_size_inches(6, 8)\n",
    "\n",
    "embed_ = np.reshape(embed_, (27, 64))\n",
    "\n",
    "# 0.015625\n",
    "sns.heatmap(embed_, ax=axs)"
   ]
  },
  {
   "cell_type": "markdown",
   "id": "fc4dfdf4-609e-4285-a1a9-e54cab5ce0a9",
   "metadata": {},
   "source": [
    "#  Управляем"
   ]
  },
  {
   "cell_type": "code",
   "execution_count": 12,
   "id": "b0094b9c-d038-4474-aed3-b44f82ad6f67",
   "metadata": {},
   "outputs": [
    {
     "name": "stderr",
     "output_type": "stream",
     "text": [
      "Setting `pad_token_id` to `eos_token_id`:None for open-end generation.\n"
     ]
    },
    {
     "name": "stdout",
     "output_type": "stream",
     "text": [
      "prompt=Жил-был пёс по имени Барни. Он был большой, лохматый и очень добрый. Барни жил вместе со своей хозяйкой Машей в небольшом уютном доме на окраине города. Маша была студенткой и часто уезжала на занятия, но каждый раз возвращалась домой с радостью, потому что знала – её верный друг всегда ждёт у двери.\n",
      "\n",
      "generated_text= А когда она открывала дверь, он радостно махал ей лапами.\n",
      "Маша любила своего питомца, а он любил свою хозяйку. Но однажды случилось несчастье: Маша заболела и попала в больницу. Она не могла навещать своего любимого друга, ведь он был такой большой и добрый! Тогда Маша решила написать специальную программу, которая бы делала всё то же самое, что делал Барни. И вот, спустя некоторое время, Маша смогла снова войти в свой любимый сайт, чтобы посмотреть фотографии своих любимых друзей ВКонтакте. Вот только теперь она уже не могла оставлять свои любимые комментарии к фотографиям, так как её компьютерный антивирус попросил ввести номер телефона для подтверждения. Теперь Маша не может скачать все эти приложения, которые позволяют ей управлять компьютером удалённо. Ведь\n",
      "=======================================\n"
     ]
    }
   ],
   "source": [
    "control_conf = dict(\n",
    "    logits_func=\"add\",\n",
    "    weights_func=\"default\",\n",
    "    control_coef=120,\n",
    "    weights_averaging_coef=0.4,\n",
    "    leave_prompt_unchanged=True,\n",
    "    scale_topk_weights=False,\n",
    "    weights_norm_update_min=0,\n",
    "    control_matrix=torch.tensor(embed_, device=device),\n",
    "    reduce_over_time=None,\n",
    "    weights_norm_update_max=None\n",
    ")\n",
    "\n",
    "update_config(control_conf)\n",
    "\n",
    "prompt = \"Жил-был пёс по имени Барни. Он был большой, лохматый и очень добрый. Барни жил вместе со своей хозяйкой Машей в небольшом уютном доме на окраине города. Маша была студенткой и часто уезжала на занятия, но каждый раз возвращалась домой с радостью, потому что знала – её верный друг всегда ждёт у двери.\"\n",
    "generate_text(prompt, model, tokenizer, max_new_tokens=160, repetition_penalty=1.09);"
   ]
  },
  {
   "cell_type": "code",
   "execution_count": 39,
   "id": "7a1080c7-a852-4726-86fd-d69d45c698f0",
   "metadata": {},
   "outputs": [
    {
     "name": "stdout",
     "output_type": "stream",
     "text": [
      "prompt=Albert Einstein\n",
      "\n",
      "generated_text=\n",
      "\n",
      "Albert Einstein (1879-1955) was a German-born theoretical physicist who developed the special and general theories of relativity. He is best known for his mass-energy equivalence formula E = mc2, which has been called \"the world's most famous equation\". In 1921 he received the Nobel Prize in Physics for his discovery of the law of the photoelectric effect.\n",
      "\n",
      "Einstein's work on general relativity led to its use as a navigation tool by global digital mapping software companies such as Google Maps, Apple Maps and TomTom.\n",
      "\n",
      "The following cribs are available:\n",
      "\n",
      "  • General Relativity: The Theory of Everything\n",
      "  • Special Relativity: The Theory of Speed\n",
      "  • Energy Conservation: The Law of Mass-E\n",
      "=======================================\n"
     ]
    }
   ],
   "source": [
    "control_conf = dict(\n",
    "    logits_func=\"add\",\n",
    "    weights_func=\"default\",\n",
    "    control_coef=60,\n",
    "    weights_averaging_coef=0.4,\n",
    "    leave_prompt_unchanged=False,\n",
    "    scale_topk_weights=False,\n",
    "    weights_norm_update_min=0,\n",
    "    control_matrix=torch.tensor(embed_, device=device),\n",
    "    reduce_over_time=None,\n",
    "    weights_norm_update_max=None\n",
    ")\n",
    "\n",
    "update_config(control_conf)\n",
    "\n",
    "prompt = \"Albert Einstein\"\n",
    "generate_text(prompt, model, tokenizer, max_new_tokens=160, repetition_penalty=1.09);"
   ]
  },
  {
   "cell_type": "code",
   "execution_count": 40,
   "id": "ebc433e6-5a38-4cf9-916b-55f0e1aff841",
   "metadata": {},
   "outputs": [
    {
     "name": "stdout",
     "output_type": "stream",
     "text": [
      "prompt=В далёком царстве, где солнце всегда светит ярко, а птицы поют сладкие мелодии, жил мальчик по имени Тим. Тим был добрым и отзывчивым, но у него была одна особенность \n",
      "\n",
      "generated_text=̶ он не умел говорить «нет». Однажды Тим решил отправиться в путешествие на другой конец света, чтобы найти свою маму. Но для этого ему нужно было пройти через порталы, которые были защищены от ботов.\n",
      "TimID — это блокчейн-кошелек с расширенными возможностями безопасности, который позволяет пользователям управлять авторизацией и двухфакторная аутентификациия (2FA) для децентрализованных приложений (D-Web). Он также поддерживает бумажные кошельки, бумажное восстановление, биометрика и другие методы 2FA.\n",
      "Тим ID – это кошелек для ПК, мобильный и веб- бумажный кошелек. Кошелек доступен для настольных компьютеров, мобильных устройств и браузеров Google Chrome. Кошель- бумажник доступен для настольных компьютеров, мобильных устройств и брауз\n",
      "=======================================\n"
     ]
    }
   ],
   "source": [
    "control_conf = dict(\n",
    "    logits_func=\"add\",\n",
    "    weights_func=\"default\",\n",
    "    control_coef=60,\n",
    "    weights_averaging_coef=0.5,\n",
    "    leave_prompt_unchanged=False,\n",
    "    scale_topk_weights=False,\n",
    "    weights_norm_update_min=0.8,\n",
    "    control_matrix=torch.tensor(embed_, device=device),\n",
    "    reduce_over_time=None,\n",
    "    weights_norm_update_max=None\n",
    ")\n",
    "\n",
    "update_config(control_conf)\n",
    "\n",
    "prompt = \"В далёком царстве, где солнце всегда светит ярко, а птицы поют сладкие мелодии, жил мальчик по имени Тим. Тим был добрым и отзывчивым, но у него была одна особенность \"\n",
    "generate_text(prompt, model, tokenizer, max_new_tokens=160, repetition_penalty=1.09);"
   ]
  },
  {
   "cell_type": "code",
   "execution_count": 45,
   "id": "2a791ed6-a69d-4a6e-afdc-a1742672467c",
   "metadata": {},
   "outputs": [
    {
     "name": "stdout",
     "output_type": "stream",
     "text": [
      "prompt=It was a cold winter evening in the small town of Willowbrook. The streets were covered with a thin layer of snow, and the air was crisp and still\n",
      "\n",
      "generated_text=. As I walked down the sidewalk, I noticed that there was something different about this night. It felt like everyone around me was on edge, as if they were waiting for something to happen.\n",
      "\n",
      "I continued walking until I reached my destination: the local library. As I entered, I was greeted by a familiar face: my friend, Alex. He was sitting at one of the computers, his eyes glued to the screen. When he saw me, he smiled and waved me over.\n",
      "\n",
      "“Hey, buddy,” he said. “How’s it going?”\n",
      "\n",
      "“I’m good,” I replied. “What are you up to?”\n",
      "\n",
      "He gestured towards the computer. “Just doing some research.”\n",
      "\n",
      "“What kind of research?” I asked curiously.\n",
      "\n",
      "Alex hesitated for a moment before answering. “You know how we’ve been talking about starting our own business? Well, I found a website that has all kinds of information about starting your own business.”\n",
      "\n",
      "“That sounds great!” I exclaimed. “Where is it?”\n",
      "\n",
      "“It’s called the Small Business Administration,” Alex explained. “They have everything from tips on writing a business plan to advice on finding funding.”\n",
      "\n",
      "I was impressed. “That’s really helpful! Thanks\n",
      "=======================================\n"
     ]
    }
   ],
   "source": [
    "control_conf = dict(\n",
    "    logits_func=\"add\",\n",
    "    weights_func=\"default\",\n",
    "    control_coef=100,\n",
    "    weights_averaging_coef=0.93,\n",
    "    leave_prompt_unchanged=True,\n",
    "    scale_topk_weights=False,\n",
    "    weights_norm_update_min=0.,\n",
    "    control_matrix=torch.tensor(embed_, device=device),\n",
    "    reduce_over_time=200,\n",
    "    weights_norm_update_max=0.3\n",
    ")\n",
    "\n",
    "update_config(control_conf)\n",
    "\n",
    "prompt = \"It was a cold winter evening in the small town of Willowbrook. The streets were covered with a thin layer of snow, and the air was crisp and still\"\n",
    "generate_text(prompt, model, tokenizer, max_new_tokens=250, repetition_penalty=1.09);"
   ]
  },
  {
   "cell_type": "code",
   "execution_count": 41,
   "id": "752bcbe3-2a20-4969-a88b-807fbbc4e218",
   "metadata": {},
   "outputs": [
    {
     "name": "stdout",
     "output_type": "stream",
     "text": [
      "prompt=It was a cold winter evening in the small town of Willowbrook. The streets were covered with a thin layer of snow, and the air was crisp and still\n",
      "\n",
      "generated_text=. As I walked down the sidewalk, I noticed that there was a strange glow coming from the rooftops.\n",
      "\n",
      "I stopped to look at it more closely, and realized that it was a holographic notification banner on my phone. It was an advertisement for a new game called “Weather Radar.” I tapped on the link to open the store’s entry in the Play Store. The title of the app was “Weather Radar,” and it had a description that said: “This application is not intended to be used by third-party software.”\n",
      "\n",
      "The main screen of the app was a map of the current weather conditions. The location marker was set to “Location services” and the weather forecast was using the free weather-forecast-ios sdk if you are interested in this kind of\n",
      "=======================================\n"
     ]
    }
   ],
   "source": [
    "control_conf = dict(\n",
    "    logits_func=\"add\",\n",
    "    weights_func=\"default\",\n",
    "    control_coef=55,\n",
    "    weights_averaging_coef=0.6,\n",
    "    leave_prompt_unchanged=True,\n",
    "    scale_topk_weights=False,\n",
    "    weights_norm_update_min=0.5,\n",
    "    control_matrix=torch.tensor(embed_, device=device),\n",
    "    reduce_over_time=None,\n",
    "    weights_norm_update_max=None\n",
    ")\n",
    "\n",
    "update_config(control_conf)\n",
    "\n",
    "prompt = \"It was a cold winter evening in the small town of Willowbrook. The streets were covered with a thin layer of snow, and the air was crisp and still\"\n",
    "generate_text(prompt, model, tokenizer, max_new_tokens=160, repetition_penalty=1.09);"
   ]
  },
  {
   "cell_type": "code",
   "execution_count": 42,
   "id": "0e4d0eb9-03d3-47b9-a4f2-531e129d2dd1",
   "metadata": {},
   "outputs": [
    {
     "name": "stdout",
     "output_type": "stream",
     "text": [
      "prompt=The old clock in the hallway struck midnight, its chimes echoing through the empty mansion\n",
      "\n",
      "generated_text=. The house was quiet and dark, except for a few lights on the ground floor. The first floor was still, but the second and third floors were filled with light.\n",
      " …\n",
      "\n",
      "The old man’s cane tapped against the wooden floor as he walked down the hall of his childhood home. He had been living there since his father passed away last year, and it felt like he’d never left. But now that he was back at school, he couldn’t help but think about how much time had passed since then.\n",
      "\n",
      "He opened up the door to his locker and saw a post-it note stuck to the outside of it: “You have 10 unread notifications.” He tapped the icon on his phone and opened the email webmail client to see what new mail has arrived. There was\n",
      "=======================================\n"
     ]
    }
   ],
   "source": [
    "control_conf = dict(\n",
    "    logits_func=\"add\",\n",
    "    weights_func=\"default\",\n",
    "    control_coef=60,\n",
    "    weights_averaging_coef=0.5,\n",
    "    leave_prompt_unchanged=True,\n",
    "    scale_topk_weights=False,\n",
    "    weights_norm_update_min=0.5,\n",
    "    control_matrix=torch.tensor(embed_, device=device),\n",
    "    reduce_over_time=None,\n",
    "    weights_norm_update_max=None\n",
    ")\n",
    "\n",
    "update_config(control_conf)\n",
    "\n",
    "prompt = \"The old clock in the hallway struck midnight, its chimes echoing through the empty mansion\"\n",
    "generate_text(prompt, model, tokenizer, max_new_tokens=160, repetition_penalty=1.09);"
   ]
  },
  {
   "cell_type": "code",
   "execution_count": 43,
   "id": "ce47c5ee-54f0-4af4-87c2-80671f5934ac",
   "metadata": {},
   "outputs": [
    {
     "name": "stdout",
     "output_type": "stream",
     "text": [
      "prompt=The old clock in the hallway struck midnight, its chimes echoing through the empty mansion\n",
      "\n",
      "generated_text=. The house was quiet and dark, but for a few candles that had been lit to guide the way.\n",
      "\n",
      "“Where are we?” asked one of the children.\n",
      "\n",
      "“I don’t know,” said another. “I can’t see anything.”\n",
      "\n",
      "“Try again,” said their mother. She handed them each a piece of paper with a blank form on it. They filled out the fields and clicked the Submit button. A progress bar appeared at the top of the screen, and then they were back home.\n",
      "\n",
      "“Wow!” exclaimed one of the children. “It worked!”\n",
      "\n",
      "“How did you do that?” asked another.\n",
      "\n",
      "“It’s magic,” replied their mom. “Now let’s print some 3D models from our 3D printer.”</s>\n",
      "=======================================\n"
     ]
    }
   ],
   "source": [
    "control_conf = dict(\n",
    "    logits_func=\"add\",\n",
    "    weights_func=\"default\",\n",
    "    control_coef=57,\n",
    "    weights_averaging_coef=0.5,\n",
    "    leave_prompt_unchanged=True,\n",
    "    scale_topk_weights=False,\n",
    "    weights_norm_update_min=0.5,\n",
    "    control_matrix=torch.tensor(embed_, device=device),\n",
    "    reduce_over_time=None,\n",
    "    weights_norm_update_max=None\n",
    ")\n",
    "\n",
    "update_config(control_conf)\n",
    "\n",
    "prompt = \"The old clock in the hallway struck midnight, its chimes echoing through the empty mansion\"\n",
    "generate_text(prompt, model, tokenizer, max_new_tokens=160, repetition_penalty=1.09);"
   ]
  }
 ],
 "metadata": {
  "kernelspec": {
   "display_name": "Python [conda env:.mlspace-ellur4n-moe]",
   "language": "python",
   "name": "conda-env-.mlspace-ellur4n-moe-py"
  },
  "language_info": {
   "codemirror_mode": {
    "name": "ipython",
    "version": 3
   },
   "file_extension": ".py",
   "mimetype": "text/x-python",
   "name": "python",
   "nbconvert_exporter": "python",
   "pygments_lexer": "ipython3",
   "version": "3.9.20"
  }
 },
 "nbformat": 4,
 "nbformat_minor": 5
}
